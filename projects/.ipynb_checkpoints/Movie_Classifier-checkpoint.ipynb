{
 "cells": [
  {
   "cell_type": "markdown",
   "id": "8e1d3fb4",
   "metadata": {},
   "source": [
    "# Movie Classification Algorithm\n",
    "\n",
    "## Project Goals\n",
    "\n",
    "The goal of this project is to build a classification model that can accurately predict a movie's quality using data from IMDb. A satisfactory result will be a model with >90% accuracy. This will be done by using scikit-learn's k-nearest neighbors classifier.\n",
    "\n",
    "## Features and Labels\n",
    "\n",
    "Each movie will be classified into a label dependent on the IMDb weighted average for individual user ratings. The average scores will be labelled as such:\n",
    "* Between 0 and 3 (exclusive): \"Bad\"\n",
    "* Between 3 and 6 (both inclusive): \"Okay\"\n",
    "* Between 6 (exclusive) and 10: \"Great\"\n",
    "\n",
    "The preliminary features for consideration are the following:\n",
    "* Year of release (int)\n",
    "* Run time in minutes (int)\n",
    "* Budget (int)\n",
    "\n",
    "## Import and Observe Data"
   ]
  },
  {
   "cell_type": "code",
   "execution_count": 1,
   "id": "9a9d902b",
   "metadata": {},
   "outputs": [],
   "source": [
    "import pandas as pd\n",
    "from sklearn.neighbors import KNeighborsClassifier\n",
    "\n",
    "movies = pd.read_csv('')"
   ]
  }
 ],
 "metadata": {
  "kernelspec": {
   "display_name": "Python 3",
   "language": "python",
   "name": "python3"
  },
  "language_info": {
   "codemirror_mode": {
    "name": "ipython",
    "version": 3
   },
   "file_extension": ".py",
   "mimetype": "text/x-python",
   "name": "python",
   "nbconvert_exporter": "python",
   "pygments_lexer": "ipython3",
   "version": "3.8.8"
  }
 },
 "nbformat": 4,
 "nbformat_minor": 5
}

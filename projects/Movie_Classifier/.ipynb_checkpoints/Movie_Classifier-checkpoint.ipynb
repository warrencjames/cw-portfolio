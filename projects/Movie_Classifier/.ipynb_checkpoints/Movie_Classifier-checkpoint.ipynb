{
 "cells": [
  {
   "cell_type": "markdown",
   "id": "8e1d3fb4",
   "metadata": {},
   "source": [
    "# Movie Classification Algorithm\n",
    "\n",
    "## Project Goals\n",
    "\n",
    "The goal of this project is to build a classification model that can accurately predict a movie's quality using data from IMDb. A satisfactory result will be a model with >80% accuracy. This will be done by using scikit-learn's k-nearest neighbors classifier.\n",
    "\n",
    "## Features and Labels\n",
    "\n",
    "Each movie will be classified into a label dependent on the IMDb weighted average for individual user ratings. The average scores will be labeled as such:\n",
    "* Between 0 and 3 (exclusive): \"Bad\"\n",
    "* Between 3 and 6 (both inclusive): \"Okay\"\n",
    "* Between 6 (exclusive) and 10: \"Great\"\n",
    "\n",
    "The preliminary features for consideration are the following:\n",
    "* Year of release (int)\n",
    "* Run time in minutes (int)\n",
    "\n",
    "## Import and Observe Data"
   ]
  },
  {
   "cell_type": "code",
   "execution_count": null,
   "id": "107ef034",
   "metadata": {},
   "outputs": [],
   "source": []
  },
  {
   "cell_type": "code",
   "execution_count": 34,
   "id": "9a9d902b",
   "metadata": {},
   "outputs": [
    {
     "name": "stderr",
     "output_type": "stream",
     "text": [
      "C:\\Users\\warre\\anaconda3\\lib\\site-packages\\IPython\\core\\interactiveshell.py:3165: DtypeWarning: Columns (4) have mixed types.Specify dtype option on import or set low_memory=False.\n",
      "  has_raised = await self.run_ast_nodes(code_ast.body, cell_name,\n"
     ]
    }
   ],
   "source": [
    "import pandas as pd\n",
    "import numpy as np\n",
    "from sklearn.neighbors import KNeighborsClassifier\n",
    "from sklearn.model_selection import train_test_split\n",
    "\n",
    "movies = pd.read_csv('titlebasics.tsv', sep='\\t')\n",
    "ratings = pd.read_csv('ratings.tsv', sep='\\t')\n",
    "\n",
    "#print(movies.head())\n",
    "#print('---')\n",
    "#print(ratings.head())\n",
    "#print('---')\n",
    "#print(movies.titleType.unique())"
   ]
  },
  {
   "cell_type": "markdown",
   "id": "36d5c2cd",
   "metadata": {},
   "source": [
    "Here, \"tconst\" is the unique identifier that will be used to join the data. The data is split into categories, so we want to choose the rows where \"titleType\" is 'movie' or 'tvMovie'."
   ]
  },
  {
   "cell_type": "markdown",
   "id": "c7ffcf40",
   "metadata": {},
   "source": [
    "## Clean and Split Data"
   ]
  },
  {
   "cell_type": "code",
   "execution_count": 41,
   "id": "cf1f844c",
   "metadata": {},
   "outputs": [],
   "source": [
    "#print(movies.dtypes, ratings.dtypes)\n",
    "df = movies.merge(ratings, on='tconst')\n",
    "df = df[(df['titleType'] == 'movie') | (df['titleType'] == 'tvMovie')]\n"
   ]
  },
  {
   "cell_type": "code",
   "execution_count": 44,
   "id": "373426cd",
   "metadata": {},
   "outputs": [
    {
     "name": "stdout",
     "output_type": "stream",
     "text": [
      "        tconst titleType isAdult startYear runtimeMinutes  averageRating  \\\n",
      "8    tt0000009     movie       0      1894             45            5.2   \n",
      "334  tt0000502     movie       0      1905            100            3.7   \n",
      "366  tt0000574     movie       0      1906             70            6.0   \n",
      "374  tt0000591     movie       0      1907             90            4.0   \n",
      "388  tt0000615     movie       0      1907             -1            4.1   \n",
      "\n",
      "     numVotes  \n",
      "8         200  \n",
      "334        14  \n",
      "366       784  \n",
      "374        19  \n",
      "388        23  \n"
     ]
    }
   ],
   "source": [
    "#df.drop(columns=['endYear', 'originalTitle', 'genres', 'primaryTitle'], inplace=True)\n",
    "#df.replace('\\\\N', '-1', inplace=True)\n",
    "#replacing null values with a value of -1, will remove these rows.\n",
    "print(df.head())\n"
   ]
  },
  {
   "cell_type": "markdown",
   "id": "8b1d24dc",
   "metadata": {},
   "source": [
    "The 'isAdult' column calls a question to mind: Should adult films be considered for this algorithm?"
   ]
  },
  {
   "cell_type": "code",
   "execution_count": 46,
   "id": "fc8797db",
   "metadata": {},
   "outputs": [
    {
     "name": "stdout",
     "output_type": "stream",
     "text": [
      "0    326107\n",
      "1      4698\n",
      "0       997\n",
      "1         6\n",
      "Name: isAdult, dtype: int64\n"
     ]
    }
   ],
   "source": [
    "print(df.isAdult.value_counts())"
   ]
  },
  {
   "cell_type": "markdown",
   "id": "d4f0315e",
   "metadata": {},
   "source": [
    "While not a substantial proportion of the data, I've decided to keep it in the feature list at this point."
   ]
  },
  {
   "cell_type": "code",
   "execution_count": 47,
   "id": "6e56c632",
   "metadata": {},
   "outputs": [],
   "source": [
    "df.drop(columns=['tconst', 'titleType'], inplace=True)"
   ]
  },
  {
   "cell_type": "code",
   "execution_count": 54,
   "id": "09931379",
   "metadata": {},
   "outputs": [
    {
     "name": "stdout",
     "output_type": "stream",
     "text": [
      "isAdult             int64\n",
      "startYear           int64\n",
      "runtimeMinutes      int64\n",
      "averageRating     float64\n",
      "numVotes            int64\n",
      "dtype: object\n"
     ]
    }
   ],
   "source": [
    "#convert dtypes to numeric values\n",
    "df.isAdult = pd.to_numeric(df['isAdult'])\n",
    "df.startYear = pd.to_numeric(df['startYear'])\n",
    "df.runtimeMinutes = pd.to_numeric(df['runtimeMinutes'])\n",
    "print(df.dtypes)"
   ]
  },
  {
   "cell_type": "markdown",
   "id": "27d4dce9",
   "metadata": {},
   "source": [
    "Now I'll remove all missing (-1) values from the dataset"
   ]
  },
  {
   "cell_type": "code",
   "execution_count": 57,
   "id": "2d3f2648",
   "metadata": {},
   "outputs": [],
   "source": [
    "df = df[df['isAdult'] >= 0]\n",
    "df = df[df['startYear'] >= 0]\n",
    "df = df[df['runtimeMinutes'] >= 0]\n",
    "df.dropna(axis=0, how='any', inplace=True)"
   ]
  },
  {
   "cell_type": "code",
   "execution_count": 76,
   "id": "2d2ee6f3",
   "metadata": {},
   "outputs": [
    {
     "name": "stdout",
     "output_type": "stream",
     "text": [
      "<class 'pandas.core.frame.DataFrame'>\n",
      "Int64Index: 295752 entries, 8 to 1261915\n",
      "Data columns (total 5 columns):\n",
      " #   Column          Non-Null Count   Dtype  \n",
      "---  ------          --------------   -----  \n",
      " 0   isAdult         295752 non-null  int64  \n",
      " 1   startYear       295752 non-null  int64  \n",
      " 2   runtimeMinutes  295752 non-null  int64  \n",
      " 3   averageRating   295752 non-null  float64\n",
      " 4   numVotes        295752 non-null  int64  \n",
      "dtypes: float64(1), int64(4)\n",
      "memory usage: 13.5 MB\n",
      "None\n"
     ]
    }
   ],
   "source": [
    "print(df.info())\n"
   ]
  },
  {
   "cell_type": "markdown",
   "id": "d89ee345",
   "metadata": {},
   "source": [
    "The data is now ready to be split into a training and testing set. I've decided to also keep 'numVotes' as a potential feature."
   ]
  },
  {
   "cell_type": "code",
   "execution_count": 67,
   "id": "505e818e",
   "metadata": {},
   "outputs": [],
   "source": [
    "X = df.drop(columns='averageRating')\n",
    "y_cont = df.averageRating\n",
    "y = pd.cut(y_cont, bins=[0,3,6,10], labels=['Bad', 'Okay', 'Great'])\n",
    "\n",
    "X_train, X_test, y_train, y_test = train_test_split(X, y, train_size=0.8, random_state=24)"
   ]
  },
  {
   "cell_type": "markdown",
   "id": "691fce07",
   "metadata": {},
   "source": [
    "## Create model and find best k"
   ]
  },
  {
   "cell_type": "code",
   "execution_count": 74,
   "id": "2d4345c8",
   "metadata": {},
   "outputs": [],
   "source": [
    "k_list = range(40,50)\n",
    "accs = []\n",
    "for k in k_list:\n",
    "    knn = KNeighborsClassifier(n_neighbors=k)\n",
    "    knn.fit(X_train, y_train)\n",
    "    accs.append(knn.score(X_test, y_test))"
   ]
  },
  {
   "cell_type": "code",
   "execution_count": 69,
   "id": "a721a135",
   "metadata": {},
   "outputs": [],
   "source": [
    "import matplotlib.pyplot as plt"
   ]
  },
  {
   "cell_type": "code",
   "execution_count": 77,
   "id": "a13a3045",
   "metadata": {},
   "outputs": [
    {
     "data": {
      "image/png": "[encoded data removed]",
      "text/plain": [
       "<Figure size 432x288 with 1 Axes>"
      ]
     },
     "metadata": {
      "needs_background": "light"
     },
     "output_type": "display_data"
    }
   ],
   "source": [
    "plt.plot(k_list, accs)\n",
    "plt.xlabel('K values')\n",
    "plt.ylabel('Accuracy')\n",
    "plt.show()"
   ]
  },
  {
   "cell_type": "markdown",
   "id": "29fc1ccd",
   "metadata": {},
   "source": [
    "With the current model, the best accuracy I can get is around 62% accuracy. I'll fine-tune the features to attempt to improve the accuracy. I'll start by removing the adult film feature."
   ]
  },
  {
   "cell_type": "markdown",
   "id": "f96a01c4",
   "metadata": {},
   "source": [
    "## Feature Tuning"
   ]
  },
  {
   "cell_type": "code",
   "execution_count": 79,
   "id": "e6c40e66",
   "metadata": {},
   "outputs": [],
   "source": [
    "X2 = df.drop(columns=['isAdult', 'averageRating'])\n",
    "X_train, X_test, y_train, y_test = train_test_split(X2, y, train_size=0.8, random_state=24)\n",
    "\n"
   ]
  },
  {
   "cell_type": "code",
   "execution_count": 80,
   "id": "7aa844e0",
   "metadata": {},
   "outputs": [
    {
     "data": {
      "image/png": "[encoded data removed]",
      "text/plain": [
       "<Figure size 432x288 with 1 Axes>"
      ]
     },
     "metadata": {
      "needs_background": "light"
     },
     "output_type": "display_data"
    }
   ],
   "source": [
    "k_list = range(3,40)\n",
    "accs = []\n",
    "for k in k_list:\n",
    "    knn = KNeighborsClassifier(n_neighbors=k)\n",
    "    knn.fit(X_train, y_train)\n",
    "    accs.append(knn.score(X_test, y_test))\n",
    "plt.plot(k_list, accs)\n",
    "plt.xlabel('K values')\n",
    "plt.ylabel('Accuracy')\n",
    "plt.show()"
   ]
  },
  {
   "cell_type": "markdown",
   "id": "4573a1c4",
   "metadata": {},
   "source": [
    "This resulted in no noticable change in accuracy."
   ]
  }
 ],
 "metadata": {
  "kernelspec": {
   "display_name": "Python 3",
   "language": "python",
   "name": "python3"
  },
  "language_info": {
   "codemirror_mode": {
    "name": "ipython",
    "version": 3
   },
   "file_extension": ".py",
   "mimetype": "text/x-python",
   "name": "python",
   "nbconvert_exporter": "python",
   "pygments_lexer": "ipython3",
   "version": "3.8.8"
  }
 },
 "nbformat": 4,
 "nbformat_minor": 5
}
